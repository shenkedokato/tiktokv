{
 "cells": [
  {
   "cell_type": "code",
   "execution_count": 10,
   "id": "296bb339",
   "metadata": {},
   "outputs": [],
   "source": [
    "import moviepy.editor as mp\n",
    "from moviepy.editor import *"
   ]
  },
  {
   "cell_type": "code",
   "execution_count": 12,
   "id": "5640df8e",
   "metadata": {},
   "outputs": [
    {
     "data": {
      "text/plain": [
       "moviepy.video.compositing.CompositeVideoClip.CompositeVideoClip"
      ]
     },
     "execution_count": 12,
     "metadata": {},
     "output_type": "execute_result"
    }
   ],
   "source": [
    "video=VideoFileClip(\"Video/m2.mp4\")\n",
    "overlay=VideoFileClip(\"Video/m1.mp4\")\n",
    "combined=clips_array([[video],[overlay]])\n",
    "logo=(mp.ImageClip('Video/need.png')\n",
    "        .set_duration(video.duration)\n",
    "        .resize(height=50)\n",
    "        .margin(right=20,top=20,opacity=0)\n",
    "        .set_pos('right','top'))\n",
    "final=mp.CompositeVideoClip([combined,logo])\n",
    "\n",
    "type(final)"
   ]
  },
  {
   "cell_type": "code",
   "execution_count": null,
   "id": "651bd6f2",
   "metadata": {},
   "outputs": [],
   "source": []
  }
 ],
 "metadata": {
  "kernelspec": {
   "display_name": "Python 3 (ipykernel)",
   "language": "python",
   "name": "python3"
  },
  "language_info": {
   "codemirror_mode": {
    "name": "ipython",
    "version": 3
   },
   "file_extension": ".py",
   "mimetype": "text/x-python",
   "name": "python",
   "nbconvert_exporter": "python",
   "pygments_lexer": "ipython3",
   "version": "3.10.1"
  }
 },
 "nbformat": 4,
 "nbformat_minor": 5
}
